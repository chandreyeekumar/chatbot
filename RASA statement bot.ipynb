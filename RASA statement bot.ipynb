{
 "cells": [
  {
   "cell_type": "code",
   "execution_count": 1,
   "metadata": {},
   "outputs": [
    {
     "name": "stdout",
     "output_type": "stream",
     "text": [
      "rasa_nlu: 0.14.6 rasa_core: 0.13.7\n"
     ]
    }
   ],
   "source": [
    "import rasa_nlu\n",
    "import rasa_core\n",
    "import warnings\n",
    "warnings.filterwarnings('ignore')\n",
    "\n",
    "\n",
    "print(\"rasa_nlu: {} rasa_core: {}\".format(rasa_nlu.__version__, rasa_core.__version__))"
   ]
  },
  {
   "cell_type": "code",
   "execution_count": 2,
   "metadata": {},
   "outputs": [],
   "source": [
    "import os\n",
    "import pandas\n",
    "import numpy"
   ]
  },
  {
   "cell_type": "code",
   "execution_count": 22,
   "metadata": {},
   "outputs": [],
   "source": [
    "from rasa_nlu.training_data import load_data\n",
    "from rasa_nlu.config import RasaNLUModelConfig\n",
    "from rasa_nlu.model import Trainer\n",
    "from rasa_nlu import config"
   ]
  },
  {
   "cell_type": "code",
   "execution_count": 23,
   "metadata": {},
   "outputs": [],
   "source": [
    "def train_nlu_model():\n",
    "    # loading the nlu training samples\n",
    "    training_data = load_data(\"nlu.md\")\n",
    "\n",
    "    # trainer to educate our pipeline\n",
    "    trainer = Trainer(config.load(\"config.yml\"))\n",
    "\n",
    "    # train the model!\n",
    "    interpreter = trainer.train(training_data)\n",
    "\n",
    "    # store it for future use\n",
    "    model_directory = trainer.persist(\"./models/current\", fixed_model_name=\"nlu\")\n",
    "    \n",
    "    return interpreter, model_directory"
   ]
  },
  {
   "cell_type": "code",
   "execution_count": 24,
   "metadata": {
    "scrolled": true
   },
   "outputs": [
    {
     "name": "stderr",
     "output_type": "stream",
     "text": [
      "INFO:rasa_nlu.training_data.loading:Training data format of nlu.md is md\n",
      "INFO:rasa_nlu.training_data.training_data:Training data stats: \n",
      "\t- intent examples: 2565 (3 distinct intents)\n",
      "\t- Found intents: 'how_many_times', 'how_much', 'how_much_last'\n",
      "\t- entity examples: 2565 (2 distinct entities)\n",
      "\t- found entities: 'Time', 'Mrch_Type'\n",
      "\n",
      "INFO:rasa_nlu.model:Starting to train component tokenizer_whitespace\n",
      "INFO:rasa_nlu.model:Finished training component.\n",
      "INFO:rasa_nlu.model:Starting to train component ner_crf\n",
      "INFO:rasa_nlu.model:Finished training component.\n",
      "INFO:rasa_nlu.model:Starting to train component intent_featurizer_count_vectors\n",
      "INFO:rasa_nlu.model:Finished training component.\n",
      "INFO:rasa_nlu.model:Starting to train component intent_classifier_tensorflow_embedding\n",
      "INFO:rasa_nlu.classifiers.embedding_intent_classifier:Accuracy is updated every 10 epochs\n",
      "Epochs: 100%|█████████████████████████████████████████████████| 300/300 [01:31<00:00,  3.29it/s, loss=0.002, acc=1.000]\n",
      "INFO:rasa_nlu.classifiers.embedding_intent_classifier:Finished training embedding classifier, loss=0.002, train accuracy=1.000\n",
      "INFO:rasa_nlu.model:Finished training component.\n",
      "INFO:rasa_nlu.model:Successfully saved model into 'C:\\Users\\chandu\\RASA\\rasa_statement_bot\\models\\current\\default\\nlu'\n"
     ]
    }
   ],
   "source": [
    "interpreter, model_directory = train_nlu_model()"
   ]
  },
  {
   "cell_type": "code",
   "execution_count": 25,
   "metadata": {},
   "outputs": [],
   "source": [
    "import logging, io, json, warnings\n",
    "logging.basicConfig(level=\"INFO\")\n",
    "warnings.filterwarnings('ignore')\n",
    "\n",
    "def pprint(o):\n",
    "    # small helper function to make dict dumps a bit prettier\n",
    "    print(json.dumps(o, indent=2))"
   ]
  },
  {
   "cell_type": "code",
   "execution_count": 26,
   "metadata": {},
   "outputs": [
    {
     "name": "stdout",
     "output_type": "stream",
     "text": [
      "{\n",
      "  \"intent\": {\n",
      "    \"name\": \"how_many_times\",\n",
      "    \"confidence\": 0.9866456985473633\n",
      "  },\n",
      "  \"entities\": [\n",
      "    {\n",
      "      \"start\": 30,\n",
      "      \"end\": 39,\n",
      "      \"value\": \"rideshare\",\n",
      "      \"entity\": \"Mrch_Type\",\n",
      "      \"confidence\": 0.9995205400391425,\n",
      "      \"extractor\": \"ner_crf\"\n",
      "    },\n",
      "    {\n",
      "      \"start\": 40,\n",
      "      \"end\": 54,\n",
      "      \"value\": \"in past 1 week\",\n",
      "      \"entity\": \"Time\",\n",
      "      \"confidence\": 0.9998213144812312,\n",
      "      \"extractor\": \"ner_crf\"\n",
      "    }\n",
      "  ],\n",
      "  \"intent_ranking\": [\n",
      "    {\n",
      "      \"name\": \"how_many_times\",\n",
      "      \"confidence\": 0.9866456985473633\n",
      "    },\n",
      "    {\n",
      "      \"name\": \"how_much\",\n",
      "      \"confidence\": 0.0\n",
      "    },\n",
      "    {\n",
      "      \"name\": \"how_much_last\",\n",
      "      \"confidence\": 0.0\n",
      "    }\n",
      "  ],\n",
      "  \"text\": \"How many times did I spend on rideshare in past 1 week?\"\n",
      "}\n"
     ]
    }
   ],
   "source": [
    "#change the input message with your prefered inputs\n",
    "input_message = \"How many times did I spend on rideshare in past 1 week?\"\n",
    "pprint(interpreter.parse(input_message))"
   ]
  },
  {
   "cell_type": "code",
   "execution_count": 10,
   "metadata": {},
   "outputs": [
    {
     "name": "stdout",
     "output_type": "stream",
     "text": [
      "{\n",
      "  \"intent\": {\n",
      "    \"name\": \"how_manytimes\",\n",
      "    \"confidence\": 0.9879451394081116\n",
      "  },\n",
      "  \"entities\": [\n",
      "    {\n",
      "      \"start\": 24,\n",
      "      \"end\": 33,\n",
      "      \"value\": \"furniture\",\n",
      "      \"entity\": \"Mrch_Type\",\n",
      "      \"confidence\": 0.9996833191321157,\n",
      "      \"extractor\": \"ner_crf\"\n",
      "    },\n",
      "    {\n",
      "      \"start\": 34,\n",
      "      \"end\": 51,\n",
      "      \"value\": \"in last one month\",\n",
      "      \"entity\": \"Time\",\n",
      "      \"confidence\": 0.9998977695022392,\n",
      "      \"extractor\": \"ner_crf\"\n",
      "    }\n",
      "  ],\n",
      "  \"intent_ranking\": [\n",
      "    {\n",
      "      \"name\": \"how_manytimes\",\n",
      "      \"confidence\": 0.9879451394081116\n",
      "    },\n",
      "    {\n",
      "      \"name\": \"how_much_last\",\n",
      "      \"confidence\": 0.0\n",
      "    }\n",
      "  ],\n",
      "  \"text\": \"How much did I spend on furniture in last one month?\"\n",
      "}\n"
     ]
    }
   ],
   "source": [
    "#change the input message with your prefered inputs\n",
    "input_message = \"How much did I spend on furniture in last one month?\"\n",
    "pprint(interpreter.parse(input_message))"
   ]
  },
  {
   "cell_type": "code",
   "execution_count": null,
   "metadata": {},
   "outputs": [],
   "source": []
  }
 ],
 "metadata": {
  "kernelspec": {
   "display_name": "rasa_virtual1",
   "language": "python",
   "name": "rasa_virtual1"
  },
  "language_info": {
   "codemirror_mode": {
    "name": "ipython",
    "version": 3
   },
   "file_extension": ".py",
   "mimetype": "text/x-python",
   "name": "python",
   "nbconvert_exporter": "python",
   "pygments_lexer": "ipython3",
   "version": "3.6.12"
  }
 },
 "nbformat": 4,
 "nbformat_minor": 4
}
